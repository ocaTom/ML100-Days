{
 "cells": [
  {
   "cell_type": "code",
   "execution_count": 55,
   "metadata": {},
   "outputs": [],
   "source": [
    "from sklearn import datasets, metrics, linear_model\n",
    "from sklearn.tree import DecisionTreeClassifier, DecisionTreeRegressor\n",
    "from sklearn.model_selection import train_test_split\n",
    "import os\n",
    "import numpy as np \n",
    "import pandas as pd\n",
    "\n",
    "import seaborn as sns\n",
    "import matplotlib.pyplot as plt\n",
    "\n",
    "%matplotlib inline"
   ]
  },
  {
   "cell_type": "code",
   "execution_count": 298,
   "metadata": {},
   "outputs": [],
   "source": [
    "dir_data = '../data/ml100marathon/'\n",
    "D49_train = os.path.join(dir_data, 'train_data.csv')\n",
    "D49_test_features = os.path.join(dir_data, 'test_features.csv')\n",
    "# D49_sample_submission = os.path.join(dir_data, 'sample_submission.csv')\n",
    "\n",
    "\n",
    "train = pd.read_csv(D49_train)\n",
    "# sample = pd.read_csv(D49_sample_submission)"
   ]
  },
  {
   "cell_type": "code",
   "execution_count": 299,
   "metadata": {},
   "outputs": [
    {
     "data": {
      "text/plain": [
       "float64    19\n",
       "object      2\n",
       "bool        1\n",
       "dtype: int64"
      ]
     },
     "execution_count": 299,
     "metadata": {},
     "output_type": "execute_result"
    }
   ],
   "source": [
    "train.dtypes.value_counts()"
   ]
  },
  {
   "cell_type": "code",
   "execution_count": 300,
   "metadata": {},
   "outputs": [
    {
     "data": {
      "text/html": [
       "<div>\n",
       "<style scoped>\n",
       "    .dataframe tbody tr th:only-of-type {\n",
       "        vertical-align: middle;\n",
       "    }\n",
       "\n",
       "    .dataframe tbody tr th {\n",
       "        vertical-align: top;\n",
       "    }\n",
       "\n",
       "    .dataframe thead th {\n",
       "        text-align: right;\n",
       "    }\n",
       "</style>\n",
       "<table border=\"1\" class=\"dataframe\">\n",
       "  <thead>\n",
       "    <tr style=\"text-align: right;\">\n",
       "      <th></th>\n",
       "      <th>name</th>\n",
       "      <th>bonus</th>\n",
       "      <th>deferral_payments</th>\n",
       "      <th>deferred_income</th>\n",
       "      <th>director_fees</th>\n",
       "      <th>email_address</th>\n",
       "      <th>exercised_stock_options</th>\n",
       "      <th>expenses</th>\n",
       "      <th>from_messages</th>\n",
       "      <th>from_poi_to_this_person</th>\n",
       "      <th>...</th>\n",
       "      <th>long_term_incentive</th>\n",
       "      <th>other</th>\n",
       "      <th>poi</th>\n",
       "      <th>restricted_stock</th>\n",
       "      <th>restricted_stock_deferred</th>\n",
       "      <th>salary</th>\n",
       "      <th>shared_receipt_with_poi</th>\n",
       "      <th>to_messages</th>\n",
       "      <th>total_payments</th>\n",
       "      <th>total_stock_value</th>\n",
       "    </tr>\n",
       "  </thead>\n",
       "  <tbody>\n",
       "    <tr>\n",
       "      <th>0</th>\n",
       "      <td>RICE KENNETH D</td>\n",
       "      <td>1750000.0</td>\n",
       "      <td>NaN</td>\n",
       "      <td>-3504386.0</td>\n",
       "      <td>NaN</td>\n",
       "      <td>ken.rice@enron.com</td>\n",
       "      <td>19794175.0</td>\n",
       "      <td>46950.0</td>\n",
       "      <td>18.0</td>\n",
       "      <td>42.0</td>\n",
       "      <td>...</td>\n",
       "      <td>1617011.0</td>\n",
       "      <td>174839.0</td>\n",
       "      <td>True</td>\n",
       "      <td>2748364.0</td>\n",
       "      <td>NaN</td>\n",
       "      <td>420636.0</td>\n",
       "      <td>864.0</td>\n",
       "      <td>905.0</td>\n",
       "      <td>505050.0</td>\n",
       "      <td>22542539.0</td>\n",
       "    </tr>\n",
       "    <tr>\n",
       "      <th>1</th>\n",
       "      <td>SKILLING JEFFREY K</td>\n",
       "      <td>5600000.0</td>\n",
       "      <td>NaN</td>\n",
       "      <td>NaN</td>\n",
       "      <td>NaN</td>\n",
       "      <td>jeff.skilling@enron.com</td>\n",
       "      <td>19250000.0</td>\n",
       "      <td>29336.0</td>\n",
       "      <td>108.0</td>\n",
       "      <td>88.0</td>\n",
       "      <td>...</td>\n",
       "      <td>1920000.0</td>\n",
       "      <td>22122.0</td>\n",
       "      <td>True</td>\n",
       "      <td>6843672.0</td>\n",
       "      <td>NaN</td>\n",
       "      <td>1111258.0</td>\n",
       "      <td>2042.0</td>\n",
       "      <td>3627.0</td>\n",
       "      <td>8682716.0</td>\n",
       "      <td>26093672.0</td>\n",
       "    </tr>\n",
       "    <tr>\n",
       "      <th>2</th>\n",
       "      <td>SHELBY REX</td>\n",
       "      <td>200000.0</td>\n",
       "      <td>NaN</td>\n",
       "      <td>-4167.0</td>\n",
       "      <td>NaN</td>\n",
       "      <td>rex.shelby@enron.com</td>\n",
       "      <td>1624396.0</td>\n",
       "      <td>22884.0</td>\n",
       "      <td>39.0</td>\n",
       "      <td>13.0</td>\n",
       "      <td>...</td>\n",
       "      <td>NaN</td>\n",
       "      <td>1573324.0</td>\n",
       "      <td>True</td>\n",
       "      <td>869220.0</td>\n",
       "      <td>NaN</td>\n",
       "      <td>211844.0</td>\n",
       "      <td>91.0</td>\n",
       "      <td>225.0</td>\n",
       "      <td>2003885.0</td>\n",
       "      <td>2493616.0</td>\n",
       "    </tr>\n",
       "    <tr>\n",
       "      <th>3</th>\n",
       "      <td>KOPPER MICHAEL J</td>\n",
       "      <td>800000.0</td>\n",
       "      <td>NaN</td>\n",
       "      <td>NaN</td>\n",
       "      <td>NaN</td>\n",
       "      <td>michael.kopper@enron.com</td>\n",
       "      <td>NaN</td>\n",
       "      <td>118134.0</td>\n",
       "      <td>NaN</td>\n",
       "      <td>NaN</td>\n",
       "      <td>...</td>\n",
       "      <td>602671.0</td>\n",
       "      <td>907502.0</td>\n",
       "      <td>True</td>\n",
       "      <td>985032.0</td>\n",
       "      <td>NaN</td>\n",
       "      <td>224305.0</td>\n",
       "      <td>NaN</td>\n",
       "      <td>NaN</td>\n",
       "      <td>2652612.0</td>\n",
       "      <td>985032.0</td>\n",
       "    </tr>\n",
       "    <tr>\n",
       "      <th>4</th>\n",
       "      <td>CALGER CHRISTOPHER F</td>\n",
       "      <td>1250000.0</td>\n",
       "      <td>NaN</td>\n",
       "      <td>-262500.0</td>\n",
       "      <td>NaN</td>\n",
       "      <td>christopher.calger@enron.com</td>\n",
       "      <td>NaN</td>\n",
       "      <td>35818.0</td>\n",
       "      <td>144.0</td>\n",
       "      <td>199.0</td>\n",
       "      <td>...</td>\n",
       "      <td>375304.0</td>\n",
       "      <td>486.0</td>\n",
       "      <td>True</td>\n",
       "      <td>126027.0</td>\n",
       "      <td>NaN</td>\n",
       "      <td>240189.0</td>\n",
       "      <td>2188.0</td>\n",
       "      <td>2598.0</td>\n",
       "      <td>1639297.0</td>\n",
       "      <td>126027.0</td>\n",
       "    </tr>\n",
       "  </tbody>\n",
       "</table>\n",
       "<p>5 rows × 22 columns</p>\n",
       "</div>"
      ],
      "text/plain": [
       "                   name      bonus  deferral_payments  deferred_income  \\\n",
       "0        RICE KENNETH D  1750000.0                NaN       -3504386.0   \n",
       "1    SKILLING JEFFREY K  5600000.0                NaN              NaN   \n",
       "2            SHELBY REX   200000.0                NaN          -4167.0   \n",
       "3      KOPPER MICHAEL J   800000.0                NaN              NaN   \n",
       "4  CALGER CHRISTOPHER F  1250000.0                NaN        -262500.0   \n",
       "\n",
       "   director_fees                 email_address  exercised_stock_options  \\\n",
       "0            NaN            ken.rice@enron.com               19794175.0   \n",
       "1            NaN       jeff.skilling@enron.com               19250000.0   \n",
       "2            NaN          rex.shelby@enron.com                1624396.0   \n",
       "3            NaN      michael.kopper@enron.com                      NaN   \n",
       "4            NaN  christopher.calger@enron.com                      NaN   \n",
       "\n",
       "   expenses  from_messages  from_poi_to_this_person        ...          \\\n",
       "0   46950.0           18.0                     42.0        ...           \n",
       "1   29336.0          108.0                     88.0        ...           \n",
       "2   22884.0           39.0                     13.0        ...           \n",
       "3  118134.0            NaN                      NaN        ...           \n",
       "4   35818.0          144.0                    199.0        ...           \n",
       "\n",
       "   long_term_incentive      other   poi  restricted_stock  \\\n",
       "0            1617011.0   174839.0  True         2748364.0   \n",
       "1            1920000.0    22122.0  True         6843672.0   \n",
       "2                  NaN  1573324.0  True          869220.0   \n",
       "3             602671.0   907502.0  True          985032.0   \n",
       "4             375304.0      486.0  True          126027.0   \n",
       "\n",
       "   restricted_stock_deferred     salary  shared_receipt_with_poi  to_messages  \\\n",
       "0                        NaN   420636.0                    864.0        905.0   \n",
       "1                        NaN  1111258.0                   2042.0       3627.0   \n",
       "2                        NaN   211844.0                     91.0        225.0   \n",
       "3                        NaN   224305.0                      NaN          NaN   \n",
       "4                        NaN   240189.0                   2188.0       2598.0   \n",
       "\n",
       "   total_payments  total_stock_value  \n",
       "0        505050.0         22542539.0  \n",
       "1       8682716.0         26093672.0  \n",
       "2       2003885.0          2493616.0  \n",
       "3       2652612.0           985032.0  \n",
       "4       1639297.0           126027.0  \n",
       "\n",
       "[5 rows x 22 columns]"
      ]
     },
     "execution_count": 300,
     "metadata": {},
     "output_type": "execute_result"
    }
   ],
   "source": [
    "train.head()"
   ]
  },
  {
   "cell_type": "code",
   "execution_count": 301,
   "metadata": {},
   "outputs": [
    {
     "data": {
      "text/plain": [
       "Index(['name', 'bonus', 'deferral_payments', 'deferred_income',\n",
       "       'director_fees', 'email_address', 'exercised_stock_options', 'expenses',\n",
       "       'from_messages', 'from_poi_to_this_person', 'from_this_person_to_poi',\n",
       "       'loan_advances', 'long_term_incentive', 'other', 'poi',\n",
       "       'restricted_stock', 'restricted_stock_deferred', 'salary',\n",
       "       'shared_receipt_with_poi', 'to_messages', 'total_payments',\n",
       "       'total_stock_value'],\n",
       "      dtype='object')"
      ]
     },
     "execution_count": 301,
     "metadata": {},
     "output_type": "execute_result"
    }
   ],
   "source": [
    "train.columns"
   ]
  },
  {
   "cell_type": "code",
   "execution_count": 302,
   "metadata": {},
   "outputs": [
    {
     "data": {
      "text/plain": [
       "count    9.800000e+01\n",
       "mean     3.527136e+06\n",
       "std      7.182997e+06\n",
       "min     -4.409300e+04\n",
       "25%      4.211518e+05\n",
       "50%      9.979710e+05\n",
       "75%      2.493616e+06\n",
       "max      4.911008e+07\n",
       "Name: total_stock_value, dtype: float64"
      ]
     },
     "execution_count": 302,
     "metadata": {},
     "output_type": "execute_result"
    }
   ],
   "source": [
    "train['total_stock_value'].describe()"
   ]
  },
  {
   "cell_type": "code",
   "execution_count": 303,
   "metadata": {},
   "outputs": [
    {
     "name": "stdout",
     "output_type": "stream",
     "text": [
      "-44093.0000000000\n",
      "49110078.0000000000\n"
     ]
    }
   ],
   "source": [
    "print(\"{:.10f}\".format(min(train['total_stock_value'])))\n",
    "print(\"{:.10f}\".format(max(train['total_stock_value'])))"
   ]
  },
  {
   "cell_type": "code",
   "execution_count": 304,
   "metadata": {},
   "outputs": [
    {
     "data": {
      "image/png": "[encoded data removed]",
      "text/plain": [
       "<matplotlib.figure.Figure at 0x1a16adf400>"
      ]
     },
     "metadata": {},
     "output_type": "display_data"
    }
   ],
   "source": [
    "train['total_stock_value'] = train['total_stock_value'].clip(-50000, 25000000)\n",
    "sns.regplot(x = train['total_stock_value'], y=train[\"poi\"])\n",
    "plt.show()"
   ]
  },
  {
   "cell_type": "code",
   "execution_count": 305,
   "metadata": {},
   "outputs": [
    {
     "data": {
      "image/png": "[encoded data removed]",
      "text/plain": [
       "<matplotlib.figure.Figure at 0x1a16b22d30>"
      ]
     },
     "metadata": {},
     "output_type": "display_data"
    }
   ],
   "source": [
    "train['long_term_incentive'] = train['long_term_incentive'].clip(0, 3000000)\n",
    "sns.regplot(x = train['long_term_incentive'], y=train[\"poi\"])\n",
    "plt.show()"
   ]
  },
  {
   "cell_type": "code",
   "execution_count": 306,
   "metadata": {},
   "outputs": [
    {
     "data": {
      "text/plain": [
       "<matplotlib.axes._subplots.AxesSubplot at 0x1a15e85b38>"
      ]
     },
     "execution_count": 306,
     "metadata": {},
     "output_type": "execute_result"
    },
    {
     "data": {
      "image/png": "[encoded data removed]",
      "text/plain": [
       "<matplotlib.figure.Figure at 0x1a15f103c8>"
      ]
     },
     "metadata": {},
     "output_type": "display_data"
    }
   ],
   "source": [
    "train['salary'] = train['salary'].clip(1000, 800000)\n",
    "sns.regplot(x = train['salary'], y=train[\"poi\"])\n",
    "# plt.show()"
   ]
  },
  {
   "cell_type": "code",
   "execution_count": 307,
   "metadata": {},
   "outputs": [
    {
     "data": {
      "text/plain": [
       "<matplotlib.axes._subplots.AxesSubplot at 0x1a16b16128>"
      ]
     },
     "execution_count": 307,
     "metadata": {},
     "output_type": "execute_result"
    },
    {
     "data": {
      "image/png": "[encoded data removed]",
      "text/plain": [
       "<matplotlib.figure.Figure at 0x1a15e590b8>"
      ]
     },
     "metadata": {},
     "output_type": "display_data"
    }
   ],
   "source": [
    "train['expenses'] = train['expenses'].clip(0, 150000)\n",
    "sns.regplot(x = train['expenses'], y=train[\"poi\"])\n",
    "# plt.show()"
   ]
  },
  {
   "cell_type": "code",
   "execution_count": 308,
   "metadata": {},
   "outputs": [
    {
     "data": {
      "text/plain": [
       "<matplotlib.axes._subplots.AxesSubplot at 0x1a1604cdd8>"
      ]
     },
     "execution_count": 308,
     "metadata": {},
     "output_type": "execute_result"
    },
    {
     "data": {
      "image/png": "[encoded data removed]",
      "text/plain": [
       "<matplotlib.figure.Figure at 0x1a14d14f98>"
      ]
     },
     "metadata": {},
     "output_type": "display_data"
    }
   ],
   "source": [
    "train['deferred_income'] = train['deferred_income'].clip(-2000, -1500000)\n",
    "sns.regplot(x = train['deferred_income'], y=train[\"poi\"])\n",
    "# plt.show()"
   ]
  },
  {
   "cell_type": "code",
   "execution_count": 309,
   "metadata": {},
   "outputs": [
    {
     "data": {
      "text/plain": [
       "<matplotlib.axes._subplots.AxesSubplot at 0x1a15f86d68>"
      ]
     },
     "execution_count": 309,
     "metadata": {},
     "output_type": "execute_result"
    },
    {
     "data": {
      "image/png": "[encoded data removed]",
      "text/plain": [
       "<matplotlib.figure.Figure at 0x1a15de00f0>"
      ]
     },
     "metadata": {},
     "output_type": "display_data"
    }
   ],
   "source": [
    "train['bonus'] = train['bonus'].clip(0, 1300000)\n",
    "sns.regplot(x = train['bonus'], y=train[\"poi\"])\n",
    "# plt.show()"
   ]
  },
  {
   "cell_type": "code",
   "execution_count": 310,
   "metadata": {},
   "outputs": [],
   "source": [
    "# train[train[\"poi\"] == True]"
   ]
  },
  {
   "cell_type": "code",
   "execution_count": 311,
   "metadata": {},
   "outputs": [],
   "source": [
    "tmp = train.pop(\"name\")\n",
    "tmp = train.pop(\"email_address\")"
   ]
  },
  {
   "cell_type": "code",
   "execution_count": 312,
   "metadata": {},
   "outputs": [],
   "source": [
    "# train.dtypes.value_counts()"
   ]
  },
  {
   "cell_type": "code",
   "execution_count": 313,
   "metadata": {},
   "outputs": [],
   "source": [
    "train[\"from_this_person_to_poi\"].replace(np.NaN, 0, inplace=True)\n",
    "train[\"from_poi_to_this_person\"].replace(np.NaN, 0, inplace=True)"
   ]
  },
  {
   "cell_type": "code",
   "execution_count": 314,
   "metadata": {},
   "outputs": [
    {
     "name": "stdout",
     "output_type": "stream",
     "text": [
      "bonus\n",
      "deferral_payments\n",
      "deferred_income\n",
      "director_fees\n",
      "exercised_stock_options\n",
      "expenses\n",
      "from_messages\n",
      "from_poi_to_this_person\n",
      "from_this_person_to_poi\n",
      "loan_advances\n",
      "long_term_incentive\n",
      "other\n",
      "restricted_stock\n",
      "restricted_stock_deferred\n",
      "salary\n",
      "shared_receipt_with_poi\n",
      "to_messages\n",
      "total_payments\n",
      "total_stock_value\n"
     ]
    }
   ],
   "source": [
    "# print(train.columns)\n",
    "# print(train.select_dtypes(include=[\"float\"]).columns)\n",
    "# print(np.median(train[~train[\"bonus\"].isnull()][\"bonus\"]))\n",
    "for column in train.select_dtypes(include=[\"float\"]).columns:\n",
    "    print(column)\n",
    "    train[column].replace(np.NaN, np.median(train[~train[column].isnull()][column]), inplace=True)\n"
   ]
  },
  {
   "cell_type": "code",
   "execution_count": 315,
   "metadata": {},
   "outputs": [],
   "source": [
    "# for column in train.columns:\n",
    "#     print(column, train[column].isnull().sum())\n",
    "#     break"
   ]
  },
  {
   "cell_type": "code",
   "execution_count": 316,
   "metadata": {},
   "outputs": [],
   "source": [
    "target = train.pop(\"poi\")\n",
    "x_train, x_test, y_train, y_test = train_test_split(train, target, test_size=0.25, random_state=4)"
   ]
  },
  {
   "cell_type": "code",
   "execution_count": 284,
   "metadata": {},
   "outputs": [
    {
     "name": "stdout",
     "output_type": "stream",
     "text": [
      "AUC:  0.75\n",
      "[0. 0. 0. 0. 0. 0. 1. 0. 0. 0. 0. 0. 0. 0. 0. 0. 1. 0. 0. 0. 0. 0. 0. 0.\n",
      " 0. 0. 0. 0. 0.]\n"
     ]
    }
   ],
   "source": [
    "DT_regres = DecisionTreeRegressor()\n",
    "DT_regres.fit(x_train, y_train)\n",
    "y_pred = DT_regres.predict(x_test)\n",
    "auc = metrics.roc_auc_score(y_test, y_pred)\n",
    "print(\"AUC: \", auc)\n",
    "print(y_pred)"
   ]
  },
  {
   "cell_type": "code",
   "execution_count": 285,
   "metadata": {},
   "outputs": [
    {
     "name": "stdout",
     "output_type": "stream",
     "text": [
      "AUC:  0.7300000000000001\n",
      "[-0.0457825  -0.11934784  0.06223772 -0.05782594  0.28107222  0.06245284\n",
      "  2.04622673 -0.01921942  0.04964781  0.10088783 -0.00655835 -0.16269094\n",
      "  0.01579579  0.37801303  0.10566691  0.12867727  0.26453834  0.35437567\n",
      "  0.10416063 -0.02659661  0.02650735  0.23954811 -0.02760754 -0.04095215\n",
      " -0.01709883 -0.0905705  -0.04953164 -0.02491187  0.21786799]\n"
     ]
    }
   ],
   "source": [
    "liner_reg = linear_model.LinearRegression()\n",
    "liner_reg.fit(x_train, y_train)\n",
    "y_pred = liner_reg.predict(x_test)\n",
    "auc = metrics.roc_auc_score(y_test, y_pred)\n",
    "print(\"AUC: \", auc)\n",
    "print(y_pred)"
   ]
  },
  {
   "cell_type": "code",
   "execution_count": 286,
   "metadata": {},
   "outputs": [
    {
     "name": "stdout",
     "output_type": "stream",
     "text": [
      "AUC:  0.625\n",
      "[False False False False False False  True False False False False False\n",
      " False False False False False False False False False False False False\n",
      " False False False False False]\n"
     ]
    }
   ],
   "source": [
    "logi_reg = linear_model.LogisticRegression()\n",
    "logi_reg.fit(x_train, y_train)\n",
    "y_pred = logi_reg.predict(x_test)\n",
    "auc = metrics.roc_auc_score(y_test, y_pred)\n",
    "print(\"AUC: \", auc)\n",
    "print(y_pred)"
   ]
  },
  {
   "cell_type": "code",
   "execution_count": 317,
   "metadata": {},
   "outputs": [
    {
     "name": "stdout",
     "output_type": "stream",
     "text": [
      "AUC:  0.7400000000000001\n",
      "[-3.66291858e-02 -1.16026407e-01  7.16113228e-02 -4.80686019e-02\n",
      "  2.87706198e-01  1.32804196e-02  2.04883005e+00 -1.99581511e-02\n",
      "  5.98153652e-02  1.11668362e-01 -6.83761137e-04 -1.52786963e-01\n",
      "  2.58813908e-02  3.09850436e-01  1.06266955e-01  1.28999519e-01\n",
      "  2.66221822e-01  3.71671184e-01  1.10368210e-01 -2.47671613e-02\n",
      "  3.61716651e-02  2.40557673e-01 -1.56482983e-02 -3.37191203e-02\n",
      " -2.77791103e-03 -8.55055842e-02  1.13081069e-01  3.40593023e-03\n",
      "  2.35306622e-01]\n"
     ]
    },
    {
     "name": "stderr",
     "output_type": "stream",
     "text": [
      "/Users/tommy/anaconda3/lib/python3.6/site-packages/sklearn/linear_model/coordinate_descent.py:491: ConvergenceWarning: Objective did not converge. You might want to increase the number of iterations. Fitting data with very small alpha may cause precision problems.\n",
      "  ConvergenceWarning)\n"
     ]
    }
   ],
   "source": [
    "lasso_reg = linear_model.Lasso(alpha=1.0)\n",
    "lasso_reg.fit(x_train, y_train)\n",
    "y_pred = lasso_reg.predict(x_test)\n",
    "auc = metrics.roc_auc_score(y_test, y_pred)\n",
    "print(\"AUC: \", auc)\n",
    "print(y_pred)"
   ]
  },
  {
   "cell_type": "code",
   "execution_count": 288,
   "metadata": {},
   "outputs": [
    {
     "name": "stdout",
     "output_type": "stream",
     "text": [
      "AUC:  0.7300000000000001\n",
      "[-0.04578243 -0.11934771  0.06223781 -0.05782586  0.28107261  0.062452\n",
      "  2.04622798 -0.01921961  0.04964793  0.10088789 -0.00655842 -0.1626906\n",
      "  0.01579595  0.37801206  0.10566684  0.1286773   0.26453854  0.35437584\n",
      "  0.10416077 -0.02659661  0.02650752  0.23954819 -0.02760746 -0.0409522\n",
      " -0.01709863 -0.09057044 -0.04952874 -0.02491157  0.21786859]\n"
     ]
    }
   ],
   "source": [
    "ridge_reg = linear_model.Ridge(alpha=1.0)\n",
    "ridge_reg.fit(x_train, y_train)\n",
    "y_pred = ridge_reg.predict(x_test)\n",
    "auc = metrics.roc_auc_score(y_test, y_pred)\n",
    "print(\"AUC: \", auc)\n",
    "print(y_pred)"
   ]
  },
  {
   "cell_type": "code",
   "execution_count": 318,
   "metadata": {},
   "outputs": [
    {
     "name": "stdout",
     "output_type": "stream",
     "text": [
      "bonus 0\n",
      "deferral_payments 0\n",
      "deferred_income 0\n",
      "director_fees 0\n",
      "exercised_stock_options 0\n",
      "expenses 0\n",
      "from_messages 0\n",
      "from_poi_to_this_person 0\n",
      "from_this_person_to_poi 0\n",
      "loan_advances 0\n",
      "long_term_incentive 0\n",
      "other 0\n",
      "restricted_stock 0\n",
      "restricted_stock_deferred 0\n",
      "salary 0\n",
      "shared_receipt_with_poi 0\n",
      "to_messages 0\n",
      "total_payments 0\n",
      "total_stock_value 0\n"
     ]
    }
   ],
   "source": [
    "test = pd.read_csv(D49_test_features)\n",
    "name = test.pop(\"name\")\n",
    "tmp = test.pop(\"email_address\")\n",
    "for column in test.select_dtypes(include=[\"float\"]).columns:\n",
    "#     print(column)\n",
    "    test[column].replace(np.NaN, np.median(test[~test[column].isnull()][column]), inplace=True)\n",
    "for column in train.columns:\n",
    "    print(column, train[column].isnull().sum())"
   ]
  },
  {
   "cell_type": "code",
   "execution_count": 319,
   "metadata": {},
   "outputs": [
    {
     "name": "stdout",
     "output_type": "stream",
     "text": [
      "[ 5.76798218e-01  5.68705099e-01  4.47015808e-01  3.90117268e-01\n",
      "  4.81064845e-01  5.51462980e-01  3.41343655e-01  2.33960944e-01\n",
      "  2.61177984e-01 -1.45409171e-02  4.99227757e-02  1.67759655e-01\n",
      "  1.33523454e-01  1.01562697e-01  2.05514575e-01  4.43819128e-01\n",
      "  4.77879250e-02  5.61501228e-01  6.05578816e-01  1.40665599e-01\n",
      "  3.20436305e+01  3.01965975e-01  5.40930047e-01  2.95093199e-01\n",
      "  3.63472818e-01  9.13521190e-02  4.84527876e+00  1.93945843e-01\n",
      "  2.46744084e-02  1.64110119e-01  1.85057041e-01  3.90014791e-02\n",
      "  4.59870924e-01]\n"
     ]
    }
   ],
   "source": [
    "pred = lasso_reg.predict(test)\n",
    "print(pred)"
   ]
  },
  {
   "cell_type": "code",
   "execution_count": 320,
   "metadata": {},
   "outputs": [
    {
     "data": {
      "text/html": [
       "<div>\n",
       "<style scoped>\n",
       "    .dataframe tbody tr th:only-of-type {\n",
       "        vertical-align: middle;\n",
       "    }\n",
       "\n",
       "    .dataframe tbody tr th {\n",
       "        vertical-align: top;\n",
       "    }\n",
       "\n",
       "    .dataframe thead th {\n",
       "        text-align: right;\n",
       "    }\n",
       "</style>\n",
       "<table border=\"1\" class=\"dataframe\">\n",
       "  <thead>\n",
       "    <tr style=\"text-align: right;\">\n",
       "      <th></th>\n",
       "      <th>name</th>\n",
       "      <th>poi</th>\n",
       "    </tr>\n",
       "  </thead>\n",
       "  <tbody>\n",
       "    <tr>\n",
       "      <th>0</th>\n",
       "      <td>BELDEN TIMOTHY N</td>\n",
       "      <td>0.576798</td>\n",
       "    </tr>\n",
       "    <tr>\n",
       "      <th>1</th>\n",
       "      <td>BOWEN JR RAYMOND M</td>\n",
       "      <td>0.568705</td>\n",
       "    </tr>\n",
       "    <tr>\n",
       "      <th>2</th>\n",
       "      <td>HANNON KEVIN P</td>\n",
       "      <td>0.447016</td>\n",
       "    </tr>\n",
       "    <tr>\n",
       "      <th>3</th>\n",
       "      <td>DELAINEY DAVID W</td>\n",
       "      <td>0.390117</td>\n",
       "    </tr>\n",
       "    <tr>\n",
       "      <th>4</th>\n",
       "      <td>CAUSEY RICHARD A</td>\n",
       "      <td>0.481065</td>\n",
       "    </tr>\n",
       "  </tbody>\n",
       "</table>\n",
       "</div>"
      ],
      "text/plain": [
       "                 name       poi\n",
       "0    BELDEN TIMOTHY N  0.576798\n",
       "1  BOWEN JR RAYMOND M  0.568705\n",
       "2      HANNON KEVIN P  0.447016\n",
       "3    DELAINEY DAVID W  0.390117\n",
       "4    CAUSEY RICHARD A  0.481065"
      ]
     },
     "execution_count": 320,
     "metadata": {},
     "output_type": "execute_result"
    }
   ],
   "source": [
    "data = {\n",
    "    \"name\" : name\n",
    "}\n",
    "data[\"poi\"] = pred\n",
    "output = pd.DataFrame(data)\n",
    "output.head()"
   ]
  },
  {
   "cell_type": "code",
   "execution_count": 321,
   "metadata": {},
   "outputs": [
    {
     "data": {
      "text/plain": [
       "0     0.018446\n",
       "1     0.018193\n",
       "2     0.014397\n",
       "3     0.012623\n",
       "4     0.015460\n",
       "5     0.017656\n",
       "6     0.011101\n",
       "7     0.007752\n",
       "8     0.008601\n",
       "9     0.000000\n",
       "10    0.002011\n",
       "11    0.005687\n",
       "12    0.004619\n",
       "13    0.003622\n",
       "14    0.006864\n",
       "15    0.014298\n",
       "16    0.001944\n",
       "17    0.017969\n",
       "18    0.019344\n",
       "19    0.004841\n",
       "20    1.000000\n",
       "21    0.009873\n",
       "22    0.017327\n",
       "23    0.009659\n",
       "24    0.011791\n",
       "25    0.003303\n",
       "26    0.151594\n",
       "27    0.006503\n",
       "28    0.001223\n",
       "29    0.005573\n",
       "30    0.006226\n",
       "31    0.001670\n",
       "32    0.014798\n",
       "Name: poi, dtype: float64"
      ]
     },
     "execution_count": 321,
     "metadata": {},
     "output_type": "execute_result"
    }
   ],
   "source": [
    "value = output[\"poi\"].values\n",
    "output[\"poi\"] = ( value - min(value) ) / ( max(value) - min(value) )\n",
    "output[\"poi\"]"
   ]
  },
  {
   "cell_type": "code",
   "execution_count": 322,
   "metadata": {},
   "outputs": [],
   "source": [
    "output.to_csv(\"../data/d49_submit_03.csv\", index=False)"
   ]
  },
  {
   "cell_type": "code",
   "execution_count": null,
   "metadata": {},
   "outputs": [],
   "source": []
  }
 ],
 "metadata": {
  "kernelspec": {
   "display_name": "Python 3",
   "language": "python",
   "name": "python3"
  }
 },
 "nbformat": 4,
 "nbformat_minor": 2
}
